{
  "nbformat": 4,
  "nbformat_minor": 0,
  "metadata": {
    "colab": {
      "provenance": [],
      "authorship_tag": "ABX9TyOLvf2SHmpx/V6lkBiB04IH",
      "include_colab_link": true
    },
    "kernelspec": {
      "name": "python3",
      "display_name": "Python 3"
    },
    "language_info": {
      "name": "python"
    }
  },
  "cells": [
    {
      "cell_type": "markdown",
      "metadata": {
        "id": "view-in-github",
        "colab_type": "text"
      },
      "source": [
        "<a href=\"https://colab.research.google.com/github/KALLXCODE/Deep-Learning/blob/main/Backpropagation_in_Python.ipynb\" target=\"_parent\"><img src=\"https://colab.research.google.com/assets/colab-badge.svg\" alt=\"Open In Colab\"/></a>"
      ]
    },
    {
      "cell_type": "code",
      "source": [
        "import numpy as np\n",
        "\n",
        "# Define sigmoid activation function\n",
        "def sigmoid(x):\n",
        "    return 1 / (1 + np.exp(-x))\n",
        "\n",
        "# Define the derivative of the sigmoid function\n",
        "def sigmoid_derivative(x):\n",
        "    return x * (1 - x)\n",
        "\n",
        "# Define the neural network class\n",
        "class NeuralNetwork:\n",
        "    def __init__(self, input_size, hidden_size, output_size):\n",
        "        self.input_size = input_size\n",
        "        self.hidden_size = hidden_size\n",
        "        self.output_size = output_size\n",
        "\n",
        "        # Initialize the weights randomly\n",
        "        self.weights1 = np.random.randn(self.input_size, self.hidden_size)\n",
        "        self.weights2 = np.random.randn(self.hidden_size, self.output_size)\n",
        "\n",
        "    def forward(self, input):\n",
        "        # Forward pass through the network\n",
        "        self.hidden_layer = sigmoid(np.dot(input, self.weights1))\n",
        "        self.output_layer = sigmoid(np.dot(self.hidden_layer, self.weights2))\n",
        "        return self.output_layer\n",
        "\n",
        "    def backward(self, input, target_output, output, learning_rate):\n",
        "        # Backward pass through the network\n",
        "        self.output_error = target_output - output\n",
        "        self.output_delta = self.output_error * sigmoid_derivative(output)\n",
        "\n",
        "        self.hidden_error = np.dot(self.output_delta, self.weights2.T)\n",
        "        self.hidden_delta = self.hidden_error * sigmoid_derivative(self.hidden_layer)\n",
        "\n",
        "        # Update the weights\n",
        "        self.weights2 += learning_rate * np.dot(self.hidden_layer.T, self.output_delta)\n",
        "        self.weights1 += learning_rate * np.dot(input.T, self.hidden_delta)\n",
        "\n",
        "    def train(self, input, target_output, learning_rate, num_epochs):\n",
        "        for epoch in range(num_epochs):\n",
        "            output = self.forward(input)\n",
        "            self.backward(input, target_output, output, learning_rate)\n",
        "\n",
        "            if epoch % 1000 == 0:\n",
        "                loss = np.mean(np.square(target_output - output))\n",
        "                print(f\"Epoch {epoch}: loss = {loss:.4f}\")\n",
        "\n",
        "# Generate sample dataset\n",
        "X = np.array([[0, 0], [0, 1], [1, 0], [1, 1]])\n",
        "y = np.array([[0], [1], [1], [0]])\n",
        "\n",
        "# Initialize the neural network\n",
        "nn = NeuralNetwork(input_size=2, hidden_size=4, output_size=1)\n",
        "\n",
        "# Train the neural network\n",
        "nn.train(X, y, learning_rate=0.1, num_epochs=10000)\n",
        "\n",
        "# Test the neural network\n",
        "test_input = np.array([[0, 0], [0, 1], [1, 0], [1, 1]])\n",
        "test_output = nn.forward(test_input)\n",
        "print(f\"Predictions:\\n{test_output}\")\n"
      ],
      "metadata": {
        "colab": {
          "base_uri": "https://localhost:8080/"
        },
        "id": "sFLnGJoKcmfP",
        "outputId": "04d64911-6e06-4ab5-99a8-97ad862d0328"
      },
      "execution_count": 5,
      "outputs": [
        {
          "output_type": "stream",
          "name": "stdout",
          "text": [
            "Epoch 0: loss = 0.2523\n",
            "Epoch 1000: loss = 0.2081\n",
            "Epoch 2000: loss = 0.1441\n",
            "Epoch 3000: loss = 0.0817\n",
            "Epoch 4000: loss = 0.0401\n",
            "Epoch 5000: loss = 0.0221\n",
            "Epoch 6000: loss = 0.0144\n",
            "Epoch 7000: loss = 0.0104\n",
            "Epoch 8000: loss = 0.0081\n",
            "Epoch 9000: loss = 0.0066\n",
            "Predictions:\n",
            "[[0.07203575]\n",
            " [0.92579679]\n",
            " [0.92280561]\n",
            " [0.07351705]]\n"
          ]
        }
      ]
    }
  ]
}